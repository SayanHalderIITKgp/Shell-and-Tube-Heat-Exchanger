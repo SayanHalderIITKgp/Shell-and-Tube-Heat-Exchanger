{
  "nbformat": 4,
  "nbformat_minor": 0,
  "metadata": {
    "colab": {
      "name": "Sayan Halder_Shell_Tube_Heat_exchanger_Asgn2.ipynb",
      "provenance": [],
      "collapsed_sections": []
    },
    "kernelspec": {
      "name": "python3",
      "display_name": "Python 3"
    },
    "language_info": {
      "name": "python"
    }
  },
  "cells": [
    {
      "cell_type": "code",
      "metadata": {
        "id": "AnsmFXrwZszm"
      },
      "source": [
        "import numpy as np\n",
        "import math\n",
        "import time\n",
        "import pandas as pd\n",
        "import random"
      ],
      "execution_count": null,
      "outputs": []
    },
    {
      "cell_type": "markdown",
      "metadata": {
        "id": "JgknHt4UhI9E"
      },
      "source": [
        "**UNIT CONVERSION** "
      ]
    },
    {
      "cell_type": "code",
      "metadata": {
        "id": "xAEVuyH7ZxM7"
      },
      "source": [
        "def temp_C_to_F(t):\n",
        "\tr = t*9/5 + 32\n",
        "\treturn r\n",
        "\n",
        "def temp_C_to_K(t):\n",
        "\tr = t + 273.15\n",
        "\treturn r\n",
        "\n",
        "def temp_F_to_C(t):\n",
        "\tr = (t - 32)*5/9\n",
        "\treturn r\n",
        "\n",
        "def inch_to_m(l):\n",
        "  r = l/39.37\n",
        "  return r\n",
        "\n",
        "def m_to_inch(l):\n",
        "  r = l*39.37\n",
        "  return r"
      ],
      "execution_count": null,
      "outputs": []
    },
    {
      "cell_type": "markdown",
      "metadata": {
        "id": "4SD7PNuUhbTg"
      },
      "source": [
        "**Taking wall thickness and ID of tubes for the ease of further calculation**"
      ]
    },
    {
      "cell_type": "code",
      "metadata": {
        "id": "9pf53UdM5CG7"
      },
      "source": [
        "TUBE_DATA_FPS = {'3/4':{'wall thickness':[0.134, 0.120, 0.109, 0.095, 0.083, 0.072, 0.065, 0.058, 0.049], \n",
        "                    'ID':[0.482, 0.510, 0.532, 0.560, 0.584, 0.606, 0.620, 0.634, 0.652]},\n",
        "                  '1':{'wall thickness':[0.165, 0.148, 0.134, 0.120, 0.109, 0.095, 0.083, 0.072, 0.065, 0.058, 0.049],\n",
        "                       'ID':[0.670,0.704,0.732,0.760,0.782,0.810,0.834,0.856,0.870,0.884,0.902]}}"
      ],
      "execution_count": null,
      "outputs": []
    },
    {
      "cell_type": "code",
      "metadata": {
        "colab": {
          "base_uri": "https://localhost:8080/"
        },
        "id": "7ep34iYrv0Zj",
        "outputId": "485160e4-a6da-408c-d549-1368bce28e39"
      },
      "source": [
        "TUBE_DATA_SI = {}\n",
        "for key, value in TUBE_DATA_FPS.items():\n",
        "  TUBE_DATA_SI[key] = {}\n",
        "  for k, v in value.items():\n",
        "    TUBE_DATA_SI[key][k] = [inch_to_m(x) for x in v]\n",
        "TUBE_DATA_SI"
      ],
      "execution_count": null,
      "outputs": [
        {
          "output_type": "execute_result",
          "data": {
            "text/plain": [
              "{'1': {'ID': [0.017018034036068073,\n",
              "   0.017881635763271526,\n",
              "   0.018592837185674373,\n",
              "   0.019304038608077216,\n",
              "   0.019862839725679454,\n",
              "   0.020574041148082298,\n",
              "   0.021183642367284736,\n",
              "   0.02174244348488697,\n",
              "   0.022098044196088393,\n",
              "   0.022453644907289818,\n",
              "   0.022910845821691644],\n",
              "  'wall thickness': [0.004191008382016764,\n",
              "   0.0037592075184150367,\n",
              "   0.003403606807213615,\n",
              "   0.003048006096012192,\n",
              "   0.0027686055372110746,\n",
              "   0.002413004826009652,\n",
              "   0.002108204216408433,\n",
              "   0.0018288036576073151,\n",
              "   0.0016510033020066042,\n",
              "   0.001473202946405893,\n",
              "   0.0012446024892049786]},\n",
              " '3/4': {'ID': [0.012242824485648972,\n",
              "   0.012954025908051817,\n",
              "   0.013512827025654053,\n",
              "   0.014224028448056899,\n",
              "   0.014833629667259334,\n",
              "   0.01539243078486157,\n",
              "   0.015748031496062992,\n",
              "   0.016103632207264417,\n",
              "   0.016560833121666244],\n",
              "  'wall thickness': [0.003403606807213615,\n",
              "   0.003048006096012192,\n",
              "   0.0027686055372110746,\n",
              "   0.002413004826009652,\n",
              "   0.002108204216408433,\n",
              "   0.0018288036576073151,\n",
              "   0.0016510033020066042,\n",
              "   0.001473202946405893,\n",
              "   0.0012446024892049786]}}"
            ]
          },
          "metadata": {},
          "execution_count": 167
        }
      ]
    },
    {
      "cell_type": "code",
      "metadata": {
        "id": "ZCXoJweoA_pc"
      },
      "source": [
        "QUANTITIES = {'tube' : {'mass_flow':0, 'thermal_conductivity':0, 'visosity':0, 'heat_capacity':0,\n",
        "                        'density':0, 'velocity':0},\n",
        "              'shell' : {'mass_flow':0, 'thermal_conductivity':0, 'visosity':0, 'heat_capacity':0,\n",
        "                        'density':0, 'velocity':0}}"
      ],
      "execution_count": null,
      "outputs": []
    },
    {
      "cell_type": "markdown",
      "metadata": {
        "id": "LmrsYerlhzl4"
      },
      "source": [
        "**GIVEN TEMPERATURE AND OTHER PROPERTIES IN QUESTION**"
      ]
    },
    {
      "cell_type": "code",
      "metadata": {
        "id": "-VuwU0G9Zyli"
      },
      "source": [
        "group_number = 29\n",
        "\n",
        "#print('Enter Temp in for Cold fluid')\n",
        "temp_in_cold_C = 35\n",
        "\n",
        "#print('Enter Temp out for Cold fluid')\n",
        "temp_out_cold_C = 45\n",
        "\n",
        "#print('Enter Temp in for Hot fluid')\n",
        "temp_in_hot_C = 85\n",
        "\n",
        "#print('Enter Temp out for Hot fluid')\n",
        "temp_out_hot_C = 55\n",
        "\n",
        "#print('Calculating mass flow rate')\n",
        "mass_flow_hot_fluid = 1.5+0.03*group_number  #Kg/s\n",
        "\n",
        "#print('Mass Flow Rate of Hot Fluid = ', mass_flow_hot)\n",
        "mass_flow_cold_fluid = 0"
      ],
      "execution_count": null,
      "outputs": []
    },
    {
      "cell_type": "markdown",
      "metadata": {
        "id": "u3csMJAZiB6f"
      },
      "source": [
        "**LMTD correction factor calculation**"
      ]
    },
    {
      "cell_type": "code",
      "metadata": {
        "colab": {
          "base_uri": "https://localhost:8080/"
        },
        "id": "FV7SeCCBwDeK",
        "outputId": "652cca69-095f-411f-b0ff-d90e437b097a"
      },
      "source": [
        "# Add API of Heavy Naphtha given in our question\n",
        "print(f'API of Heavy Napththa given in our question = {48}')\n",
        "print(f'Temperature Range in Farenheit = {temp_C_to_F(temp_in_hot_C)} F - {temp_C_to_F(temp_out_hot_C)} F = {temp_C_to_F(temp_in_hot_C) - temp_C_to_F(temp_out_hot_C)} F')\n",
        "print()\n",
        "\n",
        "# Calculate Kc and Fc from the graphs given in DQ Kern\n",
        "print('Find(ing) Kc and Fc for temp range in Farenheit...')\n",
        "# Insert Eqn if possible\n",
        "Kc = 0.1\n",
        "del_tc_by_del_th = (temp_C_to_F(temp_out_cold_C) - temp_C_to_F(temp_in_cold_C))/(temp_C_to_F(temp_in_hot_C) - temp_C_to_F(temp_out_hot_C))\n",
        "print(f'For Kc = {Kc} and del_tc_by_del_th = {del_tc_by_del_th} , calculating Fc...')\n",
        "Fc = 0.43\n",
        "print(f'Fc = {Fc}')\n",
        "print()\n",
        "\n",
        "# Calculate Calorific Temperature and Mean Temperature\n",
        "Tc_F = temp_C_to_F(temp_out_hot_C) + Fc*(temp_C_to_F(temp_in_hot_C) - temp_C_to_F(temp_out_hot_C))\n",
        "Tc_C = temp_F_to_C(Tc_F)\n",
        "Tc_K = temp_C_to_K(Tc_C)\n",
        "\n",
        "#tc_F = temp_in_cold_C + Fc*(temp_out_cold_C - temp_in_cold_C)\n",
        "tc_C = (temp_in_cold_C + temp_out_cold_C)/2\n",
        "\n",
        "print(f'Calorific Temperature of Naptha we get = {Tc_F} F and {Tc_C} C and {Tc_K} K')\n",
        "print(f'Mean Temperature of Water we get = {tc_C} C, {temp_C_to_F(tc_C)} F, {temp_C_to_K(tc_C)} K')\n",
        "print()\n",
        "\n",
        "# Calculate LMTD\n",
        "del_temp1_C = temp_in_hot_C - temp_out_cold_C\n",
        "del_temp2_C = temp_out_hot_C - temp_in_cold_C\n",
        "\n",
        "del_temp1_K = temp_C_to_K(temp_in_hot_C) - temp_C_to_K(temp_out_cold_C)\n",
        "del_temp2_K = temp_C_to_K(temp_out_hot_C) - temp_C_to_K(temp_in_cold_C)\n",
        "\n",
        "del_temp1_F = temp_C_to_F(temp_in_hot_C) - temp_C_to_F(temp_out_cold_C)\n",
        "del_temp2_F = temp_C_to_F(temp_out_hot_C) - temp_C_to_F(temp_in_cold_C)\n",
        "\n",
        "temp_lmtd_C = (del_temp1_C - del_temp2_C)/math.log(del_temp1_C/del_temp2_C)\n",
        "temp_lmtd_K = (del_temp1_K - del_temp2_K)/math.log(del_temp1_K/del_temp2_K)\n",
        "temp_lmtd_F = (del_temp1_F - del_temp2_F)/math.log(del_temp1_F/del_temp2_F)\n",
        "\n",
        "print(f'LMTD Temperature = {temp_lmtd_C} C and {temp_lmtd_K} K')\n",
        "print()\n",
        "\n",
        "R = (temp_C_to_F(temp_in_hot_C) - temp_C_to_F(temp_out_hot_C))/(temp_C_to_F(temp_out_cold_C) - temp_C_to_F(temp_in_cold_C))\n",
        "S = (temp_C_to_F(temp_out_cold_C) - temp_C_to_F(temp_in_cold_C))/(temp_C_to_F(temp_in_hot_C) - temp_C_to_F(temp_in_cold_C))\n",
        "Ft = 0.935\n",
        "\n",
        "print(f'R = {R}, S = {S}')\n",
        "print(f'LMTD Correction Factor we obtained = {Ft}')\n",
        "print()\n",
        "\n",
        "#'''\n",
        "cp_cold = 4.1737 #kJ/Kg.K \n",
        "cp_hot = 2.22 #kJ/Kg.K\n",
        "\n",
        "k_cold = 0.628 #W/m.K\n",
        "k_hot = 1.453 #W/m.K\n",
        "\n",
        "meu_cold = 6.52e-4 #Pa.s\n",
        "meu_hot = 3.5e-4 #Pa.s\n",
        "\n",
        "rho_cold = 1e3  #Kg/m3\n",
        "rho_hot = 740   #Kg/m3\n",
        "\n",
        "#'''"
      ],
      "execution_count": null,
      "outputs": [
        {
          "output_type": "stream",
          "name": "stdout",
          "text": [
            "API of Heavy Napththa given in our question = 48\n",
            "Temperature Range in Farenheit = 185.0 F - 131.0 F = 54.0 F\n",
            "\n",
            "Find(ing) Kc and Fc for temp range in Farenheit...\n",
            "For Kc = 0.1 and del_tc_by_del_th = 0.3333333333333333 , calculating Fc...\n",
            "Fc = 0.43\n",
            "\n",
            "Calorific Temperature of Naptha we get = 154.22 F and 67.9 C and 341.04999999999995 K\n",
            "Mean Temperature of Water we get = 40.0 C, 104.0 F, 313.15 K\n",
            "\n",
            "LMTD Temperature = 28.85390081777927 C and 28.85390081777927 K\n",
            "\n",
            "R = 3.0, S = 0.2\n",
            "LMTD Correction Factor we obtained = 0.935\n",
            "\n"
          ]
        }
      ]
    },
    {
      "cell_type": "markdown",
      "metadata": {
        "id": "cK8JaY_niLbu"
      },
      "source": [
        "**MASS  FLOW  RATE AND HEAT TRANSFER RATE**"
      ]
    },
    {
      "cell_type": "code",
      "metadata": {
        "colab": {
          "base_uri": "https://localhost:8080/"
        },
        "id": "Y25ypMH1wc8n",
        "outputId": "583dc173-959c-41c8-f7e1-5408168570c9"
      },
      "source": [
        "Q = mass_flow_hot*cp_hot*(temp_C_to_K(temp_in_hot_C) - temp_C_to_K(temp_out_hot_C))\n",
        "print(f'Heat Transfer Rate Calculated from the above equation= {Q} kW')\n",
        "mass_flow_cold = Q/(cp_cold*(temp_C_to_K(temp_out_cold_C) - temp_C_to_K(temp_in_cold_C)))\n",
        "print(f'Mass flow rate of cold calculated from the above equation= {mass_flow_cold} Kg/s')"
      ],
      "execution_count": null,
      "outputs": [
        {
          "output_type": "stream",
          "name": "stdout",
          "text": [
            "Heat Transfer Rate Calculated from the above equation= 157.84200000000004 kW\n",
            "Mass flow rate of cold calculated from the above equation= 3.7818242806143236 Kg/s\n"
          ]
        }
      ]
    },
    {
      "cell_type": "markdown",
      "metadata": {
        "id": "x1-WZKT7iVRQ"
      },
      "source": [
        "**ASSUMPTION OF U AND AREA CALCULATION**"
      ]
    },
    {
      "cell_type": "code",
      "metadata": {
        "colab": {
          "base_uri": "https://localhost:8080/"
        },
        "id": "VxGaEGhUwoeu",
        "outputId": "395bdbb9-1fe4-42fc-db05-32ff4c8cedd9"
      },
      "source": [
        "Uassumed_F = 66.96665498948 #Btu/hr ft2 F\n",
        "Uassumed_K = 380 #W/m2.K\n",
        "\n",
        "#Calculate area based on U assumed .....Here we go for our first iteration\n",
        "A = Q*1000/(Uassumed_K*Ft*temp_lmtd_K)\n",
        "L = 6.1 #m\n",
        "print(f'Area required for heat transfer obtained by our calculation= {A} sq.m')\n",
        "print()\n",
        "\n",
        "# Calculate product of nt (theoritical number of tubes) and OD of tube\n",
        "do_nt = A/(3.1416*L)\n",
        "print(f'nt x OD of tube = {do_nt} m')\n",
        "print()\n",
        "\n",
        "tube_OD_choice = input('Enter choice of tube in the standard range for OD 3/4 or 1 -> ')\n",
        "assert tube_OD_choice in ['3/4', '1'], 'Anything other than 3/4 or 1 not implemented'\n",
        "tube_OD = 0.01905 if tube_OD_choice == '3/4' else 0.0254       #m   3/4 inch\n",
        "print(f'You have chosen {tube_OD_choice} which is {tube_OD} m')\n",
        "print()\n",
        "\n",
        "fluid_flow_choice = input('Where do you want to place the hot fluid, in tube or in shell -> ')\n",
        "if fluid_flow_choice == 'tube':\n",
        "  QUANTITIES['tube']['thermal_conductivity'] = k_hot\n",
        "  QUANTITIES['tube']['heat_capacity'] = cp_hot\n",
        "  QUANTITIES['tube']['viscosity'] = meu_hot\n",
        "  QUANTITIES['tube']['mass_flow'] = mass_flow_hot\n",
        "  QUANTITIES['tube']['density'] = rho_hot\n",
        "\n",
        "  QUANTITIES['shell']['thermal_conductivity'] = k_cold\n",
        "  QUANTITIES['shell']['heat_capacity'] = cp_cold\n",
        "  QUANTITIES['shell']['viscosity'] = meu_cold\n",
        "  QUANTITIES['shell']['mass_flow'] = mass_flow_cold\n",
        "  QUANTITIES['shell']['density'] = rho_cold\n",
        "elif fluid_flow_choice == 'shell':\n",
        "  QUANTITIES['shell']['thermal_conductivity'] = k_hot\n",
        "  QUANTITIES['shell']['heat_capacity'] = cp_hot\n",
        "  QUANTITIES['shell']['viscosity'] = meu_hot\n",
        "  QUANTITIES['shell']['mass_flow'] = mass_flow_hot\n",
        "  QUANTITIES['shell']['density'] = rho_hot\n",
        "\n",
        "  QUANTITIES['tube']['thermal_conductivity'] = k_cold\n",
        "  QUANTITIES['tube']['heat_capacity'] = cp_cold\n",
        "  QUANTITIES['tube']['viscosity'] = meu_cold\n",
        "  QUANTITIES['tube']['mass_flow'] = mass_flow_cold\n",
        "  QUANTITIES['tube']['density'] = rho_cold  \n",
        "else:\n",
        "  print('Invalid choice given! tube or shell accepted only. Please choice accordingly')\n",
        "  raise NotImplementedError\n",
        "\n",
        "'''\n",
        "tube_OD = 0.01905       #m   3/4 inch\n",
        "tube_ID = 0.0135128     #m   0.532 inch 12 BWG\n",
        "tube_ID = 0.014224      #m   0.560 inch 13 BWG\n",
        "tube_t = 0.0027686      #m   0.109 inch 12 BWG\n",
        "tube_t = 0.002413       #m   0.095 inch  13 BWG\n",
        "'''\n",
        "\n",
        "np = 2\n",
        "nt_theoretical = do_nt/tube_OD\n",
        "print(f'Minimum number of tubes required from the calculation= {nt_theoretical}')\n",
        "print()\n",
        "nt_actual = 32\n",
        "shell_ID = inch_to_m(10)\n",
        "print(f'Nearest Standard Tube number obtined from DQ kern (page 842)= {nt_actual} and corresponding shell ID = {shell_ID} m')\n",
        "print()\n",
        "print(f'Overdesign = {(nt_actual - nt_theoretical)*100/nt_theoretical}%')\n",
        "print()"
      ],
      "execution_count": null,
      "outputs": [
        {
          "output_type": "stream",
          "name": "stdout",
          "text": [
            "Area required for heat transfer obtained by our calculation= 15.396529309589488 sq.m\n",
            "\n",
            "nt x OD of tube = 0.8034190216110767 m\n",
            "\n",
            "Enter choice of tube in the standard range for OD 3/4 or 1 -> 1\n",
            "You have chosen 1 which is 0.0254 m\n",
            "\n",
            "Where do you want to place the hot fluid, in tube or in shell -> shell\n",
            "Minimum number of tubes required from the calculation= 31.630670142168377\n",
            "\n",
            "Nearest Standard Tube number obtined from DQ kern (page 842)= 32 and corresponding shell ID = 0.25400050800101603 m\n",
            "\n",
            "Overdesign = 1.1676320993884084%\n",
            "\n"
          ]
        }
      ]
    },
    {
      "cell_type": "markdown",
      "metadata": {
        "id": "EbRgdPdTikzu"
      },
      "source": [
        "**REYNOLD'S NUMBER**"
      ]
    },
    {
      "cell_type": "code",
      "metadata": {
        "colab": {
          "base_uri": "https://localhost:8080/"
        },
        "id": "1y6XnMhkw393",
        "outputId": "0ad76439-7f1f-4863-c220-aa88d0a1d00f"
      },
      "source": [
        "tube_ID_choice_index = int(input('Enter index of tube ID choice starting from 1 -> as per your choice '))\n",
        "tube_ID = TUBE_DATA_SI[tube_OD_choice]['ID'][tube_ID_choice_index-1]\n",
        "tube_t = TUBE_DATA_SI[tube_OD_choice]['wall thickness'][tube_ID_choice_index-1]\n",
        "\n",
        "print(f'You have chosen Tube ID = {tube_ID} m, Tube Thickness = {tube_t} m')\n",
        "print()\n",
        "print('Calculating Hydrodynamic quantities like reynolds number,velocity and other prt of calculations now...')\n",
        "print()\n",
        "\n",
        "\n",
        "\n",
        "# Calculate Reynold's number\n",
        "square_pitch = 0.03175  #m\n",
        "Re_tube = 4*np*QUANTITIES['tube']['mass_flow']/(nt_actual*QUANTITIES['tube']['viscosity']*3.1416*tube_ID)\n",
        "shell_D_equivalent = 4*(square_pitch*square_pitch - 3.1416*tube_OD*tube_OD/4)/(3.1416*tube_OD)\n",
        "Re_shell = QUANTITIES['shell']['mass_flow']*shell_D_equivalent*2*square_pitch/((square_pitch-tube_OD)*shell_ID*shell_ID*QUANTITIES['shell']['viscosity'])\n",
        "\n",
        "print(f'Reynold\\'s number at Tube side = {Re_tube} and at the Shell Side = {Re_shell}')"
      ],
      "execution_count": null,
      "outputs": [
        {
          "output_type": "stream",
          "name": "stdout",
          "text": [
            "Enter index of tube ID choice starting from 1 -> as per your choice 1\n",
            "You have chosen Tube ID = 0.017018034036068073 m, Tube Thickness = 0.004191008382016764 m\n",
            "\n",
            "Calculating Hydrodynamic quantities like reynolds number,velocity and other prt of calculations now...\n",
            "\n",
            "Reynold's number at Tube side = 27122.735115725263 and at the Shell Side = 26377.331649902142\n"
          ]
        }
      ]
    },
    {
      "cell_type": "markdown",
      "metadata": {
        "id": "QYLRBdKkiubV"
      },
      "source": [
        "**VELOCITY CALCULATION**"
      ]
    },
    {
      "cell_type": "code",
      "metadata": {
        "colab": {
          "base_uri": "https://localhost:8080/"
        },
        "id": "7ezHvAm-x3jN",
        "outputId": "0fdae063-c64d-4ad7-8756-2af0faa9ddb4"
      },
      "source": [
        "velocity_tube = 4*QUANTITIES['tube']['mass_flow']/(QUANTITIES['tube']['density']*3.1416*tube_ID*tube_ID)\n",
        "velocity_shell = 4*QUANTITIES['shell']['mass_flow']/(QUANTITIES['shell']['density']*3.1416*(shell_ID*shell_ID - tube_OD*tube_OD))\n",
        "print(f'Fluid Velocity in Tube Side calculted from the first equation= {velocity_tube}')\n",
        "print(f'Fluid Velocity in Shell Side calculted from the first equation= {velocity_shell}')"
      ],
      "execution_count": null,
      "outputs": [
        {
          "output_type": "stream",
          "name": "stdout",
          "text": [
            "Fluid Velocity in Tube Side calculted from the first equation= 16.626149185480106\n",
            "Fluid Velocity in Shell Side calculted from the first equation= 0.06384418491302277\n"
          ]
        }
      ]
    },
    {
      "cell_type": "markdown",
      "metadata": {
        "id": "Ei-KS2Dsi0Et"
      },
      "source": [
        "**HEAT TRANSFER COEFFICIENT CALCULATION**"
      ]
    },
    {
      "cell_type": "code",
      "metadata": {
        "colab": {
          "base_uri": "https://localhost:8080/"
        },
        "id": "JuDtKjMFyGN4",
        "outputId": "47c310cc-3352-45e5-87ba-07f58652d160"
      },
      "source": [
        "Pr_tube = QUANTITIES['tube']['viscosity']*QUANTITIES['tube']['heat_capacity']/QUANTITIES['tube']['thermal_conductivity']\n",
        "Nu_tube = 0.023*(Re_tube**0.8)*(Pr_tube**0.3)\n",
        "hi_tube = Nu_tube*QUANTITIES['tube']['thermal_conductivity']/tube_ID\n",
        "ho_tube = hi_tube*tube_ID/tube_OD\n",
        "print(f'Inner Heat Transfer Coeff for tube as per the equation= {hi_tube} W/m2.K')\n",
        "print(f'Outer Heat Transfer Coeff for tube as per the equation= {ho_tube} W/m2.K')\n",
        "print()\n",
        "print(f'Obtaining jH for shell side from DQ Kern Pg 538...')\n",
        "jh_shell = 65\n",
        "\n",
        "Nu_shell = jh_shell*((QUANTITIES['shell']['heat_capacity']*QUANTITIES['shell']['viscosity']/QUANTITIES['shell']['thermal_conductivity'])**0.33)\n",
        "hi_shell = Nu_shell*QUANTITIES['shell']['thermal_conductivity']/shell_D_equivalent\n",
        "print(f'Heat Transfer Coeff for Shell = {hi_shell} W/m2.K')"
      ],
      "execution_count": null,
      "outputs": [
        {
          "output_type": "stream",
          "name": "stdout",
          "text": [
            "Inner Heat Transfer Coeff for tube as per the equation= 584.1005730656649 W/m2.K\n",
            "Outer Heat Transfer Coeff for tube as per the equation= 391.34816665032884 W/m2.K\n",
            "\n",
            "Obtaining jH for shell side from DQ Kern Pg 538...\n",
            "Heat Transfer Coeff for Shell = 312.78831878907886 W/m2.K\n"
          ]
        }
      ]
    },
    {
      "cell_type": "code",
      "metadata": {
        "colab": {
          "base_uri": "https://localhost:8080/"
        },
        "id": "MX08w2feyRXU",
        "outputId": "2627001d-026c-4e5e-a973-83cc02db7e04"
      },
      "source": [
        "fouling_factor_shell = 0.0035\n",
        "fouling_factor_tube = 0.00035\n",
        "U_dirty_inverse = 1/hi_shell + 1/ho_tube + fouling_factor_shell + fouling_factor_tube*tube_ID/tube_OD\n",
        "U_dirty = 1/U_dirty_inverse\n",
        "print(f'Total Heat Transfer Coefficient after Fouling = {U_dirty} W/m2.K')"
      ],
      "execution_count": null,
      "outputs": [
        {
          "output_type": "stream",
          "name": "stdout",
          "text": [
            "Total Heat Transfer Coefficient after Fouling = 105.40939713556034 W/m2.K\n"
          ]
        }
      ]
    },
    {
      "cell_type": "markdown",
      "metadata": {
        "id": "Pj710sWEi-W9"
      },
      "source": [
        "**HEAT TRANSFER COEFFICIENT ERROR**"
      ]
    },
    {
      "cell_type": "code",
      "metadata": {
        "colab": {
          "base_uri": "https://localhost:8080/"
        },
        "id": "_NVvEpuOyX9E",
        "outputId": "7ecf5fa3-3ffe-4d54-f144-231af2b0d58b"
      },
      "source": [
        "print(f'Heat Coefficient Error = {100*(U_dirty - Uassumed_K)/Uassumed_K} %')"
      ],
      "execution_count": null,
      "outputs": [
        {
          "output_type": "stream",
          "name": "stdout",
          "text": [
            "Heat Coefficient Error = -72.26068496432623 %\n"
          ]
        }
      ]
    },
    {
      "cell_type": "markdown",
      "metadata": {
        "id": "R-sg1_cSjFAN"
      },
      "source": [
        "**ACTUAL CODE AND CALCULATION FOR FINAL RESULT**"
      ]
    },
    {
      "cell_type": "code",
      "metadata": {
        "colab": {
          "base_uri": "https://localhost:8080/"
        },
        "id": "Dmah0w837G6R",
        "outputId": "130ea6bd-1a4a-4cdc-abb7-878c3fdae9a5"
      },
      "source": [
        "import numpy as np\n",
        "import pandas as pd\n",
        "import math\n",
        "import time\n",
        "import random\n",
        "\n",
        "''' ------------------------------------------------------------------  Helper Functions- ------------------------------------  ''' \n",
        "def temp_C_to_F(t):\n",
        "\tr = t*9/5 + 32\n",
        "\treturn r\n",
        "\n",
        "def temp_C_to_K(t):\n",
        "\tr = t + 273.15\n",
        "\treturn r\n",
        "\n",
        "def temp_F_to_C(t):\n",
        "\tr = (t - 32)*5/9\n",
        "\treturn r\n",
        "\n",
        "def inch_to_m(l):\n",
        "  r = l/39.37\n",
        "  return r\n",
        "\n",
        "def m_to_inch(l):\n",
        "  r = l*39.37\n",
        "  return r\n",
        "\n",
        "''' ****-------------------------------------------  Helper Functions- ------------------------------------****  ''' \n",
        "\n",
        "\n",
        "\n",
        "'''****** ----------------- Data From Kern to ease tube and shell diameter calculations ----------------******'''\n",
        "# Tube Data Sheet from Kern ...All the datas are taken for the ease of iterations in our problem\n",
        "TUBE_DATA_FPS = {'3/4':{'wall thickness':[0.134, 0.120, 0.109, 0.095, 0.083, 0.072, 0.065, 0.058, 0.049],\n",
        "                    'ID':[0.482, 0.510, 0.532, 0.560, 0.584, 0.606, 0.620, 0.634, 0.652]},\n",
        "                  '1':{'wall thickness':[0.165, 0.148, 0.134, 0.120, 0.109, 0.095, 0.083, 0.072, 0.065, 0.058, 0.049],\n",
        "                       'ID':[0.670,0.704,0.732,0.760,0.782,0.810,0.834,0.856,0.870,0.884,0.902]}}\n",
        "\n",
        "# Layout Data Sheet from Kern... These datas are taken for the ease of problem\n",
        "LAYOUT_DATA_FPS = {'3/4':{'2':[26, 52,76,90,124,166,220,170,324,394,460,526,640,718,824,914,1024],\n",
        "\t\t\t\t\t\t'4':[20,40,68,82,116,158,204,246,308,370,432,480,600,688,780,886,982],\n",
        "\t\t\t\t\t\t'6':[20,36,68,76,108,150,192,240,302,356,420,468,580,676,766,866,968],\n",
        "\t\t\t\t\t\t'8':[-1,-1,60,70,108,142,188,234,292,346,408,456,560,648,748,838,948],\n",
        "\t\t\t\t\t\t'shell_ID':[8,10,12,13.25,15.25,17.25,19.25,21.25,23.25,25,27,29,31,33,35,37,39]},\n",
        "\t\t\t\t\t'1':{'2':[16, 32,45,56,76,112,132,166,208,252,288,326,398,460,518,574,644],\n",
        "\t\t\t\t\t\t'4':[14,26,40,52,68,96,128,158,192,238,278,300,380,432,488,562,624],\n",
        "\t\t\t\t\t\t'6':[-1,24,38,48,68,90,122,152,184,226,268,294,368,420,484,544,612],\n",
        "\t\t\t\t\t\t'8':[-1,-1,36,44,64,82,116,148,184,222,260,286,358,414,472,532,600],\n",
        "\t\t\t\t\t\t'shell_ID':[8,10,12,13.25,15.25,17.25,19.25,21.25,23.25,25,27,29,31,33,35,37,39]}}\n",
        "\n",
        "''' ****---------------------- Data From Kern to ease tube and shell diameter calculations ----------------****'''\n",
        "\n",
        "\n",
        "'''****** -------------------------------------------------- Convert Tube and Layout data into SI units from FPS units -----------------------------*******'''\n",
        "\n",
        "TUBE_DATA_SI = {}\n",
        "for key, value in TUBE_DATA_FPS.items():\n",
        "  TUBE_DATA_SI[key] = {}\n",
        "  for k, v in value.items():\n",
        "    TUBE_DATA_SI[key][k] = [inch_to_m(x) for x in v]\n",
        "\n",
        "LAYOUT_DATA_SI = {}\n",
        "for key,value in LAYOUT_DATA_FPS.items():\n",
        "\tLAYOUT_DATA_SI[key]={}\n",
        "\tfor k, v in value.items():\n",
        "\t\tif k == 'shell_ID':\n",
        "\t\t\tLAYOUT_DATA_SI[key][k] = [inch_to_m(x) for x in v]\n",
        "\t\telse:\n",
        "\t\t\tLAYOUT_DATA_SI[key][k] = v\n",
        "\n",
        "\n",
        "\n",
        "### Dictionary uses here to easy use of the physical properties values  ###\n",
        "QUANTITIES = {'tube' : {'mass_flow':0, 'thermal_conductivity':0, 'visosity':0, 'heat_capacity':0,\n",
        "                        'density':0, 'velocity':0},\n",
        "              'shell' : {'mass_flow':0, 'thermal_conductivity':0, 'visosity':0, 'heat_capacity':0,\n",
        "                        'density':0, 'velocity':0}}\n",
        "\n",
        "''' ------------------------------- Values Given ---------------------------   '''\n",
        "\n",
        "USE_QUESTION_VALUES = input('Do you want to continue with provided values in the questions? [y/n] -> ')\n",
        "\n",
        "if USE_QUESTION_VALUES == 'y':\n",
        "  group_number = 29\n",
        "\n",
        "  temp_in_cold_C = 35\n",
        "  temp_out_cold_C = 45\n",
        "  temp_in_hot_C = 85\n",
        "  temp_out_hot_C = 55\n",
        "\n",
        "  mass_flow_hot = 1.5+0.03*group_number  #Kg/s\n",
        "  mass_flow_cold = 0\n",
        "\n",
        "  print(f'Hot Fluid Temperature in the exchanger= {temp_in_hot_C} C, Temperature out of the exchanger = {temp_out_hot_C} C.')\n",
        "  print(f'Cold Fluid Temperature in the exchanger= {temp_in_cold_C} C, Temperature out of the exchanger= {temp_out_cold_C} C.')\n",
        "  print(f'Mass Flow Rate of Hot Fluids given by the group number= {mass_flow_hot} Kg/s')\n",
        "  print(f'API of Heavy Napththa as mentioned in the question= {48}')\n",
        "\n",
        "''' ------------------------------- Values Given ---------------------------   '''\n",
        "\n",
        "\n",
        "### STEP 1: ###\n",
        "### BASED ON TEMPERATURE DATA FIND LMTD CORRECTION FACTOR COUNTER-CURRENT FLOW AND PHYSICAL PROPERTIES  ###\n",
        "\n",
        "\n",
        "\n",
        "# Calculate Kc and Fc for the calculation of LMTD\n",
        "print('To find Kc and Fc for temp range based on the units given in the graph of DQ Kern...')\n",
        "\n",
        "# Insert Eqn if possible\n",
        "if USE_QUESTION_VALUES == 'y':\n",
        "  print(f'Temperature Range in Farenheit  = {temp_C_to_F(temp_in_hot_C)} F - {temp_C_to_F(temp_out_hot_C)} F = {temp_C_to_F(temp_in_hot_C) - temp_C_to_F(temp_out_hot_C)} F')\n",
        "  print()\n",
        "  Kc = 0.1\n",
        "  del_tc_by_del_th = (temp_C_to_F(temp_out_cold_C) - temp_C_to_F(temp_in_cold_C))/(temp_C_to_F(temp_in_hot_C) - temp_C_to_F(temp_out_hot_C))\n",
        "  print(f'For Kc = {Kc} and del_tc_by_del_th = {del_tc_by_del_th} , calculating Fc...')\n",
        "  \n",
        "  Fc = 0.43\n",
        "  print(f'Fc = {Fc}')\n",
        "  print()\n",
        "else:\n",
        "  print(f'Temperature Range = {temp_C_to_F(temp_in_hot_C)} F - {temp_C_to_F(temp_out_hot_C)} F = {temp_C_to_F(temp_in_hot_C) - temp_C_to_F(temp_out_hot_C)} F')\n",
        "  Kc = float(input('Enter Value of Kc for given temperature range'))\n",
        "  del_tc_by_del_th = (temp_C_to_F(temp_out_cold_C) - temp_C_to_F(temp_in_cold_C))/(temp_C_to_F(temp_in_hot_C) - temp_C_to_F(temp_out_hot_C))\n",
        "  print(f'del_tc_by_del_th = {del_tc_by_del_th}')\n",
        "  Fc = float(input('Enter Fc for given API and del_tc_by_del_th'))\n",
        "\n",
        "\n",
        "### STEP 2: ###\n",
        "###Calculate Calorific Temperature of hot fluid and Mean Temperature of cold fluid ###\n",
        "\n",
        "Tc_F = temp_C_to_F(temp_out_hot_C) + Fc*(temp_C_to_F(temp_in_hot_C) - temp_C_to_F(temp_out_hot_C))\n",
        "Tc_C = temp_F_to_C(Tc_F)\n",
        "Tc_K = temp_C_to_K(Tc_C)\n",
        "\n",
        "tc_C = (temp_in_cold_C + temp_out_cold_C)/2\n",
        "\n",
        "print(f'Calorific Temperature of Naptha obtained = {Tc_F} F and {Tc_C} C and {Tc_K} K')\n",
        "print(f'Mean Temperature of Water = {tc_C} C, {temp_C_to_F(tc_C)} F, {temp_C_to_K(tc_C)} K')\n",
        "print()\n",
        "\n",
        "cp_cold = 4.1737 #kJ/Kg.K\n",
        "cp_hot = 2.22 #kJ/Kg.K\n",
        "\n",
        "k_cold = 0.628 #W/m.K\n",
        "k_hot = 0.1453 #W/m.K\n",
        "\n",
        "meu_cold = 6.52e-4 #Pa.s\n",
        "meu_hot = 8.13e-4 #Pa.s\n",
        "\n",
        "rho_cold = 1e3  #Kg/m3\n",
        "rho_hot = 780   #Kg/m3\n",
        "\n",
        "k_tube = 45  #W/m,K\n",
        "\n",
        "print('At Calorific and Mean Temperature, the physical properties are...(obtained from google and basis on graphs)')\n",
        "df_dict = {'Heat Capacity (kJ/kg.s) ':[cp_hot, cp_cold],\n",
        "           'Thermal Conductivity (W/m.K) ':[k_hot, k_cold],\n",
        "           'Viscosity (Pa.s) ':[meu_hot, meu_cold],\n",
        "           'Density (kg/m3) ': [rho_hot, rho_cold]}\n",
        "pd.set_option('display.max_colwidth', -1)\n",
        "print(pd.DataFrame(df_dict, index=['Hot Fluid', 'Cold Fluid']))\n",
        "\n",
        "\n",
        "### STEP 3: Calculate Cold Fluid Mass Flow Rate ###\n",
        "\n",
        "Q = mass_flow_hot*cp_hot*(temp_C_to_K(temp_in_hot_C) - temp_C_to_K(temp_out_hot_C))\n",
        "print(f'Heat Transfer Rate Calculated from this above equation = {Q} kW')\n",
        "mass_flow_cold = Q/(cp_cold*(temp_C_to_K(temp_out_cold_C) - temp_C_to_K(temp_in_cold_C)))\n",
        "print(f'Mass flow rate of cold calculated from this above equation= {mass_flow_cold} Kg/s')\n",
        "print(f'Mass flow rate of Hot given = {mass_flow_hot} Kg/s')\n",
        "\n",
        "\n",
        "### STEP 4: Calculate LMTD   ###\n",
        "\n",
        "del_temp1_C = temp_in_hot_C - temp_out_cold_C\n",
        "del_temp2_C = temp_out_hot_C - temp_in_cold_C\n",
        "\n",
        "del_temp1_K = temp_C_to_K(temp_in_hot_C) - temp_C_to_K(temp_out_cold_C)\n",
        "del_temp2_K = temp_C_to_K(temp_out_hot_C) - temp_C_to_K(temp_in_cold_C)\n",
        "\n",
        "del_temp1_F = temp_C_to_F(temp_in_hot_C) - temp_C_to_F(temp_out_cold_C)\n",
        "del_temp2_F = temp_C_to_F(temp_out_hot_C) - temp_C_to_F(temp_in_cold_C)\n",
        "\n",
        "temp_lmtd_C = (del_temp1_C - del_temp2_C)/math.log(del_temp1_C/del_temp2_C)\n",
        "temp_lmtd_K = (del_temp1_K - del_temp2_K)/math.log(del_temp1_K/del_temp2_K)\n",
        "temp_lmtd_F = (del_temp1_F - del_temp2_F)/math.log(del_temp1_F/del_temp2_F)\n",
        "\n",
        "print(f'LMTD Temperature = {temp_lmtd_C} C and {temp_lmtd_K} K')\n",
        "print()\n",
        "\n",
        "R = (temp_C_to_F(temp_in_hot_C) - temp_C_to_F(temp_out_hot_C))/(temp_C_to_F(temp_out_cold_C) - temp_C_to_F(temp_in_cold_C))\n",
        "S = (temp_C_to_F(temp_out_cold_C) - temp_C_to_F(temp_in_cold_C))/(temp_C_to_F(temp_in_hot_C) - temp_C_to_F(temp_in_cold_C))\n",
        "\n",
        "print(f'R = {R}, S = {S}')\n",
        "print()\n",
        "if not USE_QUESTION_VALUES == 'y':\n",
        "  Fts = [0, 0, 0, 0, 0]\n",
        "  for i in range(len(Fts)):\n",
        "    Fts[i] = float(input(f'Enter Ft value for given R and S for {i+2} Shell Pass'))\n",
        "\n",
        "### STEP 5: Tube and Shell Side Fluid Choice between naptha and water according to user's choice  ###\n",
        "\n",
        "fluid_flow_choice = input('Where do you want to place the hot fluid, in tube or in shell -> ')\n",
        "if fluid_flow_choice == 'tube':\n",
        "  QUANTITIES['tube']['thermal_conductivity'] = k_hot\n",
        "  QUANTITIES['tube']['heat_capacity'] = cp_hot\n",
        "  QUANTITIES['tube']['viscosity'] = meu_hot\n",
        "  QUANTITIES['tube']['mass_flow'] = mass_flow_hot\n",
        "  QUANTITIES['tube']['density'] = rho_hot\n",
        "\n",
        "  QUANTITIES['shell']['thermal_conductivity'] = k_cold\n",
        "  QUANTITIES['shell']['heat_capacity'] = cp_cold\n",
        "  QUANTITIES['shell']['viscosity'] = meu_cold\n",
        "  QUANTITIES['shell']['mass_flow'] = mass_flow_cold\n",
        "  QUANTITIES['shell']['density'] = rho_cold\n",
        "elif fluid_flow_choice == 'shell':\n",
        "  QUANTITIES['shell']['thermal_conductivity'] = k_hot\n",
        "  QUANTITIES['shell']['heat_capacity'] = cp_hot\n",
        "  QUANTITIES['shell']['viscosity'] = meu_hot\n",
        "  QUANTITIES['shell']['mass_flow'] = mass_flow_hot\n",
        "  QUANTITIES['shell']['density'] = rho_hot\n",
        "\n",
        "  QUANTITIES['tube']['thermal_conductivity'] = k_cold\n",
        "  QUANTITIES['tube']['heat_capacity'] = cp_cold\n",
        "  QUANTITIES['tube']['viscosity'] = meu_cold\n",
        "  QUANTITIES['tube']['mass_flow'] = mass_flow_cold\n",
        "  QUANTITIES['tube']['density'] = rho_cold\n",
        "else:\n",
        "  print('Invalid choice given! tube or shell accepted only')\n",
        "  raise NotImplementedError\n",
        "\n",
        "x1=1000\n",
        "x2=10000\n",
        "y1=17\n",
        "y2=56\n",
        "\n",
        "\n",
        "Uassumed_F = 67.84779518671 #Btu/hr ft2 F\n",
        "Uassumed_K = 385 #W/m2.K\n",
        "\n",
        "print(f'Initially Assuming U as {Uassumed_K} K')\n",
        "\n",
        "def calculate():\n",
        "  ITERATIONS = 5\n",
        "  for iteration in range(ITERATIONS):\n",
        "    for sp in [1, 2]:\n",
        "      for np in [2, 4, 6, 8]:\n",
        "          print(f' ------------  Assuming No of Tube Passes = {np} -------------- ')\n",
        "          if sp == 1:\n",
        "            Ft = 0.935\n",
        "          elif sp == 2:\n",
        "            Ft = 0.98\n",
        "          elif sp == 3:\n",
        "            Ft = 0.995\n",
        "          else:\n",
        "            Ft = 1.0\n",
        "          print(f'LMTD Correction Factor = {Ft} for {sp} shell passes')\n",
        "\n",
        "          if Ft < 0.8:\n",
        "            print('!!!  Ft value too low moving to next tube pass  !!!')\n",
        "            continue\n",
        "\n",
        "          \n",
        "          ### STEP 6: Calculate area based on U assumed ###\n",
        "\n",
        "          A_theoretical = Q*1000/(Uassumed_K*Ft*temp_lmtd_K)\n",
        "          L = 6.1 #m\n",
        "          print(f'Area required for heat transfer theoritically by calculation = {A_theoretical} sq.m')\n",
        "          print()\n",
        "\n",
        "          # Calculate product of nt and OD of tube\n",
        "          do_nt = A_theoretical/(3.1416*L)\n",
        "          print(f'nt x OD of tube = {do_nt} m')\n",
        "          print()\n",
        "\n",
        "          #tube_OD_choice = input('Enter choice of tube OD 3/4 or 1 -> ')\n",
        "          #assert tube_OD_choice in ['3/4', '1'], 'Anything other than 3/4 or 1 not implemented as in market 3/4\" and 1\" only available\n",
        "          \n",
        "          ### STEP 6: Choose Tube OD of the tubes ###\n",
        "\n",
        "\n",
        "          for tube_OD_choice in ['3/4', '1']:\n",
        "            tube_OD = 0.01905 if tube_OD_choice == '3/4' else 0.0254       #m   3/4 inch\n",
        "            print(f'Trying with {tube_OD_choice} which is {tube_OD} m')\n",
        "            print()\n",
        "            \n",
        "            nt_theoretical = do_nt/tube_OD\n",
        "            print(f'Minimum number of tubes required = {nt_theoretical}')\n",
        "            print()\n",
        "\n",
        "            possible_no_of_tubes = LAYOUT_DATA_SI[tube_OD_choice][str(np)]\n",
        "            possible_shell_ID = LAYOUT_DATA_SI[tube_OD_choice]['shell_ID']\n",
        "            for t,s in zip(possible_no_of_tubes, possible_shell_ID):\n",
        "              if t>nt_theoretical:\n",
        "                nt_actual = t\n",
        "                shell_ID = s\n",
        "                break\n",
        "            \n",
        "            print(f'Nearest Standard Tube number obtained from the table of DQ Kern= {nt_actual} and corresponding shell ID = {shell_ID} m')\n",
        "            print()\n",
        "            A_actual = nt_actual*3.1416*tube_OD*L\n",
        "            overdesign = (A_actual - A_theoretical)/A_theoretical\n",
        "            print(f'Area Overdesign = {overdesign*100} %')\n",
        "            if overdesign > 0.1:\n",
        "              print('Overdesign is more than 10% , going onto next variation...')\n",
        "              print()\n",
        "              print()\n",
        "              continue\n",
        "            print()\n",
        "\n",
        "            ### STEP 7: Choose Tube ID intelligently  ###\n",
        "\n",
        "            for tube_ID_choice_index in [1, 2, 3, 4, 5, 6, 7, 8, 9, 10, 11]:\n",
        "              #tube_ID_choice_index = int(input('Enter index of tube ID choice starting from 1 -> '))\n",
        "              tube_ID = TUBE_DATA_SI[tube_OD_choice]['ID'][tube_ID_choice_index-1]\n",
        "              tube_t = TUBE_DATA_SI[tube_OD_choice]['wall thickness'][tube_ID_choice_index-1]\n",
        "              if tube_ID == -1:\n",
        "                continue\n",
        "              print(f'Trying Tube ID = {tube_ID} m, Tube Thickness = {tube_t} m')\n",
        "              print()\n",
        "              print('****Calculating Hydrodynamic quantities now based on dimensions of tubes and shell****')\n",
        "              print()\n",
        "\n",
        "              ### STEP 8: Calculate Hydrodynamic quantities  ###\n",
        "\n",
        "              square_pitch = 0.0254 if tube_OD_choice == '3/4' else 0.03175    #m\n",
        "              Re_tube = 4*np*QUANTITIES['tube']['mass_flow']/(nt_actual*QUANTITIES['tube']['viscosity']*3.1416*tube_ID)\n",
        "              shell_D_equivalent = 4*(square_pitch*square_pitch - 3.1416*tube_OD*tube_OD/4)/(3.1416*tube_OD)\n",
        "              Re_shell = QUANTITIES['shell']['mass_flow']*shell_D_equivalent*2*square_pitch/((square_pitch-tube_OD)*shell_ID*shell_ID*QUANTITIES['shell']['viscosity'])\n",
        "\n",
        "              print(f'Reynold\\'s number at Tube side from our calculation = {Re_tube}\\nReynold\\'s number at the Shell Side from our calculation= {Re_shell}')\n",
        "\n",
        "              velocity_tube = 4*QUANTITIES['tube']['mass_flow']/(QUANTITIES['tube']['density']*3.1416*tube_ID*tube_ID)\n",
        "              velocity_shell = 4*QUANTITIES['shell']['mass_flow']/(QUANTITIES['shell']['density']*3.1416*(shell_ID*shell_ID - tube_OD*tube_OD))\n",
        "              print(f'Fluid Velocity in Tube Side that we obtain= {velocity_tube}')\n",
        "              print(f'Fluid Velocity in Shell Side that we obtain = {velocity_shell}')\n",
        "              print()\n",
        "\n",
        "              Pr_tube = QUANTITIES['tube']['viscosity']*QUANTITIES['tube']['heat_capacity']*1000/QUANTITIES['tube']['thermal_conductivity']\n",
        "              Nu_tube = 0.023*(Re_tube**0.8)*(Pr_tube**0.3)\n",
        "              hi_tube = Nu_tube*QUANTITIES['tube']['thermal_conductivity']/tube_ID\n",
        "              ho_tube = hi_tube*tube_ID/tube_OD\n",
        "              print(f'Inner Heat Transfer Coeff for tube = {hi_tube} W/m2.K')\n",
        "              print(f'Outer Heat Transfer Coeff for tube = {ho_tube} W/m2.K')\n",
        "              print()\n",
        "\n",
        "              jh_shell = input('Enter jH for the Shell from plot of DQ Kern or leave empty and press enter for linear approximation ->  ')\n",
        "              if jh_shell == '':\n",
        "                print(f'Obtaining jH for shell side from Kern Pg 538...')\n",
        "                #x=float(input('Enter x -> '))\n",
        "                x = Re_shell\n",
        "                y = 10**(math.log(y1,10) + ((math.log(x,10)-math.log(x1,10))*(math.log(y2, 10)-math.log(y1,10))/(math.log(x2, 10)-math.log(x1, 10))))\n",
        "                jh_shell = y\n",
        "              else:\n",
        "                jh_shell = float(jh_shell)\n",
        "              print(f'jH for shell = {jh_shell}')\n",
        "\n",
        "              Nu_shell = jh_shell*((QUANTITIES['shell']['heat_capacity']*1000*QUANTITIES['shell']['viscosity']/QUANTITIES['shell']['thermal_conductivity'])**0.33)\n",
        "              hi_shell = Nu_shell*QUANTITIES['shell']['thermal_conductivity']/shell_D_equivalent\n",
        "              print(f'Heat Transfer Coeff for Shell = {hi_shell} W/m2.K')\n",
        "\n",
        "              fouling_factor_shell = 0.00035\n",
        "              fouling_factor_tube = 0.00035\n",
        "              U_dirty_inverse = 1/hi_shell + 1/ho_tube + fouling_factor_shell + (fouling_factor_tube + (tube_t)/(2*k_tube))*tube_OD/tube_ID\n",
        "              U_dirty = 1/U_dirty_inverse\n",
        "              print(f'Total Heat Transfer Coefficient after Fouling = {U_dirty} W/m2.K')\n",
        "\n",
        "              heat_coeff_error = (U_dirty - Uassumed_K)/Uassumed_K ### Relative error###\n",
        "              print(f'Heat Coefficient Error in percentage= {100*heat_coeff_error} %')\n",
        "              print()\n",
        "\n",
        "              print('Calculating Pressure drop now ...final checking for our design ...')\n",
        "              ### We also taking help from moody's diagram ###\n",
        "              f_shell = float(input('Find friction factor (f) for shell side from Kern plot Pg 839 -> '))\n",
        "              '''\n",
        "              if Re_tube > 3000:\n",
        "                log_f_tube = 0.00028 + ((Re_tube) - 10000)*(0.0001 - 0.00028)/(540000 - 10000)\n",
        "                #f_tube = math.exp(log_f_tube)\n",
        "                f_tube = log_f_tube\n",
        "              elif Re_tube < 1000:\n",
        "                log_f_tube = 0.001 + ((Re_tube) - 500)*(0.002 - 0.001)/(250 - 500)\n",
        "                #f_tube = math.exp(log_f_tube)\n",
        "                f_tube = log_f_tube\n",
        "              else:\n",
        "                print('Friction factor for such a reynold\\'s number in tube side does not have an approximation. Please enter yourself')\n",
        "                f_tube = None\n",
        "              '''\n",
        "              #if f_tube == None:\n",
        "              #\tf_tube = float(input('Enter friction factor -> '))\n",
        "\n",
        "              f_tube = float(input('Enter friction factor for tube -> '))\n",
        "              print(f'Friction Factor for Shell = {f_shell} and for tube = {f_tube}')\n",
        "\n",
        "              friction_pressure_drop_shell = f_shell*QUANTITIES['shell']['density']*velocity_shell*velocity_shell*L/(2*shell_ID)\n",
        "              bend_pressure_drop_shell = 4*2*velocity_shell*velocity_shell/(2*9.81*QUANTITIES['shell']['density'])\n",
        "              pressure_drop_shell = friction_pressure_drop_shell+bend_pressure_drop_shell\n",
        "\n",
        "              friction_pressure_drop_tube = f_tube*QUANTITIES['tube']['density']*velocity_tube*velocity_tube*L/(2*tube_ID)\n",
        "              bend_pressure_drop_tube = 4*np*velocity_tube*velocity_tube/(2*9.81*QUANTITIES['tube']['density'])\n",
        "              pressure_drop_tube = friction_pressure_drop_tube+bend_pressure_drop_tube\n",
        "\n",
        "              print(f'Friction Pressure Drop:\\nAt Shell Side = {friction_pressure_drop_shell} Pa\\nAt Tube Side = {friction_pressure_drop_tube} Pa')\n",
        "              print(f'Bend Pressure Drop:\\nAt Tube Side = {bend_pressure_drop_tube} Pa')\n",
        "              print(f'Total Pressure Drop:\\nAt Shell Side = {pressure_drop_shell} Pa\\nAt Tube Side = {pressure_drop_tube} Pa')\n",
        "\n",
        "              if abs(heat_coeff_error) < 0.05 and pressure_drop_shell < 10000 and pressure_drop_tube < 10000:\n",
        "                print('Successfully satisfied all conditions and our design is correct!!')\n",
        "                return True\n",
        "\n",
        "calculate()"
      ],
      "execution_count": null,
      "outputs": [
        {
          "name": "stdout",
          "output_type": "stream",
          "text": [
            "Do you want to continue with provided values in the questions? [y/n] -> y\n"
          ]
        },
        {
          "output_type": "stream",
          "name": "stderr",
          "text": [
            "/usr/local/lib/python3.7/dist-packages/ipykernel_launcher.py:161: FutureWarning: Passing a negative integer is deprecated in version 1.0 and will not be supported in future version. Instead, use None to not limit the column width.\n"
          ]
        },
        {
          "output_type": "stream",
          "name": "stdout",
          "text": [
            "Hot Fluid Temperature in the exchanger= 85 C, Temperature out of the exchanger = 55 C.\n",
            "Cold Fluid Temperature in the exchanger= 35 C, Temperature out of the exchanger= 45 C.\n",
            "Mass Flow Rate of Hot Fluids given by the group number= 2.37 Kg/s\n",
            "API of Heavy Napththa as mentioned in the question= 48\n",
            "To find Kc and Fc for temp range based on the units given in the graph of DQ Kern...\n",
            "Temperature Range in Farenheit  = 185.0 F - 131.0 F = 54.0 F\n",
            "\n",
            "For Kc = 0.1 and del_tc_by_del_th = 0.3333333333333333 , calculating Fc...\n",
            "Fc = 0.43\n",
            "\n",
            "Calorific Temperature of Naptha obtained = 154.22 F and 67.9 C and 341.04999999999995 K\n",
            "Mean Temperature of Water = 40.0 C, 104.0 F, 313.15 K\n",
            "\n",
            "At Calorific and Mean Temperature, the physical properties are...(obtained from google and basis on graphs)\n",
            "            Heat Capacity (kJ/kg.s)   ...  Density (kg/m3) \n",
            "Hot Fluid   2.2200                    ...  780.0           \n",
            "Cold Fluid  4.1737                    ...  1000.0          \n",
            "\n",
            "[2 rows x 4 columns]\n",
            "Heat Transfer Rate Calculated from this above equation = 157.84200000000004 kW\n",
            "Mass flow rate of cold calculated from this above equation= 3.7818242806143236 Kg/s\n",
            "Mass flow rate of Hot given = 2.37 Kg/s\n",
            "LMTD Temperature = 28.85390081777927 C and 28.85390081777927 K\n",
            "\n",
            "R = 3.0, S = 0.2\n",
            "\n",
            "Where do you want to place the hot fluid, in tube or in shell -> shell\n",
            "Initially Assuming U as 385 K\n",
            " ------------  Assuming No of Tube Passes = 2 -------------- \n",
            "LMTD Correction Factor = 0.935 for 1 shell passes\n",
            "Area required for heat transfer theoritically by calculation = 15.196574383490923 sq.m\n",
            "\n",
            "nt x OD of tube = 0.7929850083434004 m\n",
            "\n",
            "Trying with 3/4 which is 0.01905 m\n",
            "\n",
            "Minimum number of tubes required = 41.62650962432548\n",
            "\n",
            "Nearest Standard Tube number obtained from the table of DQ Kern= 52 and corresponding shell ID = 0.25400050800101603 m\n",
            "\n",
            "Area Overdesign = 24.920394405618175 %\n",
            "Overdesign is more than 10% , going onto next variation...\n",
            "\n",
            "\n",
            "Trying with 1 which is 0.0254 m\n",
            "\n",
            "Minimum number of tubes required = 31.21988221824411\n",
            "\n",
            "Nearest Standard Tube number obtained from the table of DQ Kern= 32 and corresponding shell ID = 0.25400050800101603 m\n",
            "\n",
            "Area Overdesign = 2.49878515332774 %\n",
            "\n",
            "Trying Tube ID = 0.017018034036068073 m, Tube Thickness = 0.004191008382016764 m\n",
            "\n",
            "****Calculating Hydrodynamic quantities now based on dimensions of tubes and shell****\n",
            "\n",
            "Reynold's number at Tube side from our calculation = 27122.735115725263\n",
            "Reynold's number at the Shell Side from our calculation= 11355.55483083118\n",
            "Fluid Velocity in Tube Side that we obtain= 16.626149185480106\n",
            "Fluid Velocity in Shell Side that we obtain = 0.06057012414825237\n",
            "\n",
            "Inner Heat Transfer Coeff for tube = 4639.675771046908 W/m2.K\n",
            "Outer Heat Transfer Coeff for tube = 3108.5889837793966 W/m2.K\n",
            "\n",
            "Enter jH for the Shell from plot of DQ Kern or leave empty and press enter for linear approximation ->  60.2\n",
            "jH for shell = 60.2\n",
            "Heat Transfer Coeff for Shell = 799.3207474321297 W/m2.K\n",
            "Total Heat Transfer Coefficient after Fouling = 397.67106386207223 W/m2.K\n",
            "Heat Coefficient Error in percentage= 3.29118541872006 %\n",
            "\n",
            "Calculating Pressure drop now ...final checking for our design ...\n",
            "Find friction factor (f) for shell side from Kern plot Pg 839 -> 0.002\n",
            "Enter friction factor for tube -> 0.0002\n",
            "Friction Factor for Shell = 0.002 and for tube = 0.0002\n",
            "Friction Pressure Drop:\n",
            "At Shell Side = 0.06872373905364278 Pa\n",
            "At Tube Side = 9908.405991708898 Pa\n",
            "Bend Pressure Drop:\n",
            "At Tube Side = 0.11271308327740706 Pa\n",
            "Total Pressure Drop:\n",
            "At Shell Side = 0.06872565689777844 Pa\n",
            "At Tube Side = 9908.518704792175 Pa\n",
            "Successfully satisfied all conditions and our design is correct!!\n"
          ]
        },
        {
          "output_type": "execute_result",
          "data": {
            "text/plain": [
              "True"
            ]
          },
          "metadata": {},
          "execution_count": 163
        }
      ]
    },
    {
      "cell_type": "code",
      "metadata": {
        "id": "_HSH0YTa7dU4"
      },
      "source": [
        ""
      ],
      "execution_count": null,
      "outputs": []
    }
  ]
}